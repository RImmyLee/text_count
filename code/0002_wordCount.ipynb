{
 "cells": [
  {
   "cell_type": "code",
   "execution_count": 1,
   "metadata": {},
   "outputs": [],
   "source": [
    "import pandas as pd\n",
    "import os\n",
    "import collections\n",
    "from konlpy.tag import Okt\n",
    "dir_core = '../data/'\n",
    "dir_from = dir_core + '0001_createMorpheme/'\n",
    "dir_to = dir_core + '0002_wordCount/'\n",
    "\n",
    "if not os.path.isdir(dir_to):\n",
    "    os.mkdir(dir_to)"
   ]
  },
  {
   "cell_type": "code",
   "execution_count": 2,
   "metadata": {},
   "outputs": [],
   "source": [
    "file_list = os.listdir(dir_from)\n",
    "counter = collections.Counter\n",
    "\n",
    "for file in file_list:\n",
    "    diction = counter([])\n",
    "    data = pd.read_csv(dir_from + file)\n",
    "    \n",
    "    for i in range(len(data)):\n",
    "        diction = diction + counter(data.loc[i,'word'].replace('[','').replace(']','').replace(\"'\",'').replace(' ','')[1:-1].split('),('))\n",
    "        \n",
    "    result = pd.DataFrame()\n",
    "    result['word'] = list(diction.keys())\n",
    "    result['count'] = list(diction.values())\n",
    "    condition = (result['word'] != '')\n",
    "    result = result.loc[condition, :]\n",
    "    result['type'] = result['word'].apply(lambda x:x.split(',')[1])\n",
    "    result['word'] = result['word'].apply(lambda x:x.split(',')[0])\n",
    "    result = result[['word', 'type', 'count']].sort_values('count', ascending = False)\n",
    "    \n",
    "    column = os.path.splitext(file)[0]\n",
    "    \n",
    "    result.to_csv(dir_to + column + '_count.csv', sep = ',', index = False, encoding = 'cp949')"
   ]
  },
  {
   "cell_type": "code",
   "execution_count": null,
   "metadata": {},
   "outputs": [],
   "source": []
  }
 ],
 "metadata": {
  "kernelspec": {
   "display_name": "Python 3",
   "language": "python",
   "name": "python3"
  },
  "language_info": {
   "codemirror_mode": {
    "name": "ipython",
    "version": 3
   },
   "file_extension": ".py",
   "mimetype": "text/x-python",
   "name": "python",
   "nbconvert_exporter": "python",
   "pygments_lexer": "ipython3",
   "version": "3.8.5"
  }
 },
 "nbformat": 4,
 "nbformat_minor": 4
}
