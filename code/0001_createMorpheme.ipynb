{
 "cells": [
  {
   "cell_type": "code",
   "execution_count": 1,
   "metadata": {},
   "outputs": [],
   "source": [
    "import pandas as pd\n",
    "import os\n",
    "from konlpy.tag import Okt\n",
    "dir_core = '../data/'\n",
    "dir_from = dir_core + '0000_origin/'\n",
    "dir_to = dir_core + '0001_createMorpheme/'\n",
    "\n",
    "if not os.path.isdir(dir_to):\n",
    "    os.mkdir(dir_to)"
   ]
  },
  {
   "cell_type": "code",
   "execution_count": 2,
   "metadata": {},
   "outputs": [],
   "source": [
    "file_list = os.listdir(dir_from)\n",
    "tags = ['Adjective', 'Noun', 'Verb']\n",
    "twt = Okt()\n",
    "\n",
    "for file in file_list:\n",
    "    column = os.path.splitext(file)[0]\n",
    "    \n",
    "    df = pd.DataFrame(columns = ['context'])\n",
    "    f = open(dir_from + file, 'rt', encoding = 'UTF8')\n",
    "    while True:\n",
    "        line = f.readline()\n",
    "        if not line:\n",
    "            break;\n",
    "        new_data = {'context': line}\n",
    "        df = df.append(new_data, ignore_index = True)\n",
    "    f.close()\n",
    "    df['word'] = ''\n",
    "    \n",
    "    for i in range(len(df)):\n",
    "        try:\n",
    "            df.loc[i, 'word'] = [(word, tag) for word, tag in twt.pos(df.loc[i, 'context']) if tag in tags]\n",
    "        except:\n",
    "            df.loc[i, 'word'] = '()'\n",
    "            \n",
    "    df.to_csv(dir_to + column + '.csv', sep = ',', index = False)"
   ]
  },
  {
   "cell_type": "code",
   "execution_count": null,
   "metadata": {},
   "outputs": [],
   "source": []
  }
 ],
 "metadata": {
  "kernelspec": {
   "display_name": "Python 3",
   "language": "python",
   "name": "python3"
  },
  "language_info": {
   "codemirror_mode": {
    "name": "ipython",
    "version": 3
   },
   "file_extension": ".py",
   "mimetype": "text/x-python",
   "name": "python",
   "nbconvert_exporter": "python",
   "pygments_lexer": "ipython3",
   "version": "3.8.5"
  }
 },
 "nbformat": 4,
 "nbformat_minor": 4
}
